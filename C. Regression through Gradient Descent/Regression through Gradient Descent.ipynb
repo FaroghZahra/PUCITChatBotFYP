{
 "cells": [
  {
   "cell_type": "markdown",
   "id": "b82f7adc",
   "metadata": {},
   "source": [
    "# Gradient Descent Algorithm:"
   ]
  },
  {
   "cell_type": "markdown",
   "id": "9f32e839",
   "metadata": {},
   "source": [
    "# Convex and Concave Functions:\n"
   ]
  },
  {
   "attachments": {
    "1_TvQ2jSrAsA40rs_5s2zzJg.png": {
     "image/png": "[encoded data removed]"
    }
   },
   "cell_type": "markdown",
   "id": "146018b1",
   "metadata": {},
   "source": [
    "![1_TvQ2jSrAsA40rs_5s2zzJg.png](attachment:1_TvQ2jSrAsA40rs_5s2zzJg.png)"
   ]
  },
  {
   "cell_type": "markdown",
   "id": "d28f40ba",
   "metadata": {},
   "source": [
    "If second derivative is greater than 0, then function is convex. however  If second derivative is less than 0, then function is concave."
   ]
  },
  {
   "cell_type": "markdown",
   "id": "d1b2d411",
   "metadata": {},
   "source": [
    "# Inflexion Point:"
   ]
  },
  {
   "cell_type": "markdown",
   "id": "4b9a404b",
   "metadata": {},
   "source": [
    "Inflexion point is a place where the curvature changes sign — meaning it changes from convex to concave or vice-versa. Inflexion points are coordinate points where second derivative is zero. "
   ]
  },
  {
   "cell_type": "markdown",
   "id": "cc29eb3a",
   "metadata": {},
   "source": [
    "# Learning Rate:"
   ]
  },
  {
   "cell_type": "markdown",
   "id": "a3782b31",
   "metadata": {},
   "source": [
    "It is defined as the step size taken to reach the minimum or lowest point. This is typically a small value that is evaluated and updated based on the behavior of the cost function. If the learning rate is high, it results in larger steps but also leads to risks of overshooting the minimum. At the same time, a low learning rate shows the small step sizes, which compromises overall efficiency but gives the advantage of more precision"
   ]
  },
  {
   "attachments": {
    "gradient-descent-in-machine-learning3.png": {
     "image/png": "[encoded data removed]"
    }
   },
   "cell_type": "markdown",
   "id": "cbf57f45",
   "metadata": {},
   "source": [
    "![gradient-descent-in-machine-learning3.png](attachment:gradient-descent-in-machine-learning3.png)"
   ]
  },
  {
   "cell_type": "markdown",
   "id": "b096a677",
   "metadata": {},
   "source": [
    "# Formula:"
   ]
  },
  {
   "attachments": {
    "1_GixQ9i6cQSvlfoe_XZdcog.gif": {
     "image/gif": "[encoded data removed]"
    }
   },
   "cell_type": "markdown",
   "id": "e6a5f230",
   "metadata": {},
   "source": [
    "![1_GixQ9i6cQSvlfoe_XZdcog.gif](attachment:1_GixQ9i6cQSvlfoe_XZdcog.gif)"
   ]
  },
  {
   "cell_type": "markdown",
   "id": "3d234bb9",
   "metadata": {},
   "source": [
    "# Techniques to choose an Optimal Learning Rate:"
   ]
  },
  {
   "cell_type": "markdown",
   "id": "66c4949f",
   "metadata": {},
   "source": [
    "# Choose a Fixed Learning Rate:"
   ]
  },
  {
   "cell_type": "markdown",
   "id": "c8a5f3fa",
   "metadata": {},
   "source": [
    "The standard gradient descent procedure uses a fixed learning rate (e.g. 0.01) that is determined by trial and error."
   ]
  },
  {
   "cell_type": "markdown",
   "id": "da7f4170",
   "metadata": {},
   "source": [
    "# Use Learning Rate Annealing:"
   ]
  },
  {
   "cell_type": "markdown",
   "id": "f969bf47",
   "metadata": {},
   "source": [
    "Learning rate annealing entails starting with a high learning rate and then gradually reducing the learning rate linearly during training. The learning rate can decrease to a value close to 0."
   ]
  },
  {
   "cell_type": "markdown",
   "id": "e197f391",
   "metadata": {},
   "source": [
    "# Use Cyclical Learning Rates:"
   ]
  },
  {
   "cell_type": "markdown",
   "id": "96747044",
   "metadata": {},
   "source": [
    "Instead of monotonically decreasing the learning rate, this method lets the learning rate cyclically vary between reasonable boundary values."
   ]
  },
  {
   "cell_type": "markdown",
   "id": "538ad070",
   "metadata": {},
   "source": [
    "# Use an Adaptive Learning Rate:"
   ]
  },
  {
   "cell_type": "markdown",
   "id": "642dcfcb",
   "metadata": {},
   "source": [
    "Another option is to use a learning rate that adapts based on the error output of the model"
   ]
  },
  {
   "cell_type": "markdown",
   "id": "6fe59b75",
   "metadata": {},
   "source": [
    "# Types of Gradient Descent:"
   ]
  },
  {
   "cell_type": "markdown",
   "id": "8d5ebe93",
   "metadata": {},
   "source": [
    "# 1. Batch Gradient Descent:"
   ]
  },
  {
   "cell_type": "markdown",
   "id": "9a44509a",
   "metadata": {},
   "source": [
    "Batch gradient descent (BGD) is used to find the error for each point in the training set and update the model after evaluating all training examples. This procedure is known as the training epoch. In simple words, it is a greedy approach where we have to sum over all examples for each update."
   ]
  },
  {
   "cell_type": "markdown",
   "id": "721bdcac",
   "metadata": {},
   "source": [
    "# 2. Stochastic gradient descent"
   ]
  },
  {
   "cell_type": "markdown",
   "id": "69cd385b",
   "metadata": {},
   "source": [
    "Stochastic gradient descent (SGD) is a type of gradient descent that runs one training example per iteration. Or in other words, it processes a training epoch for each example within a dataset and updates each training example's parameters one at a time. As it requires only one training example at a time, hence it is easier to store in allocated memory. However, it shows some computational efficiency losses in comparison to batch gradient systems as it shows frequent updates that require more detail and speed. Further, due to frequent updates, it is also treated as a noisy gradient."
   ]
  },
  {
   "cell_type": "markdown",
   "id": "6e73fffc",
   "metadata": {},
   "source": [
    "# 3. MiniBatch Gradient Descent:"
   ]
  },
  {
   "cell_type": "markdown",
   "id": "6982ca6f",
   "metadata": {},
   "source": [
    "Mini Batch gradient descent is the combination of both batch gradient descent and stochastic gradient descent. It divides the training datasets into small batch sizes then performs the updates on those batches separately. Splitting training datasets into smaller batches make a balance to maintain the computational efficiency of batch gradient descent and speed of stochastic gradient descent. Hence, we can achieve a special type of gradient descent with higher computational efficiency and less noisy gradient descent."
   ]
  },
  {
   "cell_type": "markdown",
   "id": "56daff21",
   "metadata": {},
   "source": [
    "# Implementing Gradient Descent for Linear Regression"
   ]
  },
  {
   "cell_type": "code",
   "execution_count": 2,
   "id": "862e18e1",
   "metadata": {},
   "outputs": [
    {
     "data": {
      "text/html": [
       "<div>\n",
       "<style scoped>\n",
       "    .dataframe tbody tr th:only-of-type {\n",
       "        vertical-align: middle;\n",
       "    }\n",
       "\n",
       "    .dataframe tbody tr th {\n",
       "        vertical-align: top;\n",
       "    }\n",
       "\n",
       "    .dataframe thead th {\n",
       "        text-align: right;\n",
       "    }\n",
       "</style>\n",
       "<table border=\"1\" class=\"dataframe\">\n",
       "  <thead>\n",
       "    <tr style=\"text-align: right;\">\n",
       "      <th></th>\n",
       "      <th>HoursOfStudy</th>\n",
       "      <th>GPA</th>\n",
       "    </tr>\n",
       "  </thead>\n",
       "  <tbody>\n",
       "    <tr>\n",
       "      <th>0</th>\n",
       "      <td>2.0</td>\n",
       "      <td>1.2</td>\n",
       "    </tr>\n",
       "    <tr>\n",
       "      <th>1</th>\n",
       "      <td>3.0</td>\n",
       "      <td>1.5</td>\n",
       "    </tr>\n",
       "    <tr>\n",
       "      <th>2</th>\n",
       "      <td>1.0</td>\n",
       "      <td>1.0</td>\n",
       "    </tr>\n",
       "    <tr>\n",
       "      <th>3</th>\n",
       "      <td>2.0</td>\n",
       "      <td>1.2</td>\n",
       "    </tr>\n",
       "    <tr>\n",
       "      <th>4</th>\n",
       "      <td>3.0</td>\n",
       "      <td>1.5</td>\n",
       "    </tr>\n",
       "    <tr>\n",
       "      <th>5</th>\n",
       "      <td>4.0</td>\n",
       "      <td>2.0</td>\n",
       "    </tr>\n",
       "    <tr>\n",
       "      <th>6</th>\n",
       "      <td>3.5</td>\n",
       "      <td>1.7</td>\n",
       "    </tr>\n",
       "    <tr>\n",
       "      <th>7</th>\n",
       "      <td>1.2</td>\n",
       "      <td>1.1</td>\n",
       "    </tr>\n",
       "    <tr>\n",
       "      <th>8</th>\n",
       "      <td>7.0</td>\n",
       "      <td>3.8</td>\n",
       "    </tr>\n",
       "    <tr>\n",
       "      <th>9</th>\n",
       "      <td>7.2</td>\n",
       "      <td>4.0</td>\n",
       "    </tr>\n",
       "    <tr>\n",
       "      <th>10</th>\n",
       "      <td>4.8</td>\n",
       "      <td>2.5</td>\n",
       "    </tr>\n",
       "    <tr>\n",
       "      <th>11</th>\n",
       "      <td>6.0</td>\n",
       "      <td>3.1</td>\n",
       "    </tr>\n",
       "    <tr>\n",
       "      <th>12</th>\n",
       "      <td>5.5</td>\n",
       "      <td>2.9</td>\n",
       "    </tr>\n",
       "    <tr>\n",
       "      <th>13</th>\n",
       "      <td>5.3</td>\n",
       "      <td>2.8</td>\n",
       "    </tr>\n",
       "    <tr>\n",
       "      <th>14</th>\n",
       "      <td>6.3</td>\n",
       "      <td>3.2</td>\n",
       "    </tr>\n",
       "    <tr>\n",
       "      <th>15</th>\n",
       "      <td>6.5</td>\n",
       "      <td>3.4</td>\n",
       "    </tr>\n",
       "    <tr>\n",
       "      <th>16</th>\n",
       "      <td>6.8</td>\n",
       "      <td>3.7</td>\n",
       "    </tr>\n",
       "    <tr>\n",
       "      <th>17</th>\n",
       "      <td>7.4</td>\n",
       "      <td>4.0</td>\n",
       "    </tr>\n",
       "    <tr>\n",
       "      <th>18</th>\n",
       "      <td>4.5</td>\n",
       "      <td>2.3</td>\n",
       "    </tr>\n",
       "  </tbody>\n",
       "</table>\n",
       "</div>"
      ],
      "text/plain": [
       "    HoursOfStudy  GPA\n",
       "0            2.0  1.2\n",
       "1            3.0  1.5\n",
       "2            1.0  1.0\n",
       "3            2.0  1.2\n",
       "4            3.0  1.5\n",
       "5            4.0  2.0\n",
       "6            3.5  1.7\n",
       "7            1.2  1.1\n",
       "8            7.0  3.8\n",
       "9            7.2  4.0\n",
       "10           4.8  2.5\n",
       "11           6.0  3.1\n",
       "12           5.5  2.9\n",
       "13           5.3  2.8\n",
       "14           6.3  3.2\n",
       "15           6.5  3.4\n",
       "16           6.8  3.7\n",
       "17           7.4  4.0\n",
       "18           4.5  2.3"
      ]
     },
     "execution_count": 2,
     "metadata": {},
     "output_type": "execute_result"
    }
   ],
   "source": [
    "# Making the imports\n",
    "import numpy as np\n",
    "import pandas as pd\n",
    "import matplotlib.pyplot as plt\n",
    "plt.rcParams['figure.figsize'] = (12.0, 9.0)\n",
    "\n",
    "#reading data\n",
    "data = pd.read_csv('datasets\\GPA.csv')\n",
    "data"
   ]
  },
  {
   "cell_type": "code",
   "execution_count": 3,
   "id": "b0ccd072",
   "metadata": {},
   "outputs": [
    {
     "data": {
      "image/png": "[encoded data removed]",
      "text/plain": [
       "<Figure size 864x648 with 1 Axes>"
      ]
     },
     "metadata": {
      "needs_background": "light"
     },
     "output_type": "display_data"
    },
    {
     "name": "stdout",
     "output_type": "stream",
     "text": [
      "[2.  3.  1.  2.  3.  4.  3.5 1.2 7.  7.2 4.8 6.  5.5 5.3 6.3 6.5 6.8 7.4\n",
      " 4.5]\n",
      "[1.2 1.5 1.  1.2 1.5 2.  1.7 1.1 3.8 4.  2.5 3.1 2.9 2.8 3.2 3.4 3.7 4.\n",
      " 2.3]\n"
     ]
    }
   ],
   "source": [
    "#ploting training data\n",
    "X = data.values[:, 0]\n",
    "Y = data.values[:, 1]\n",
    "plt.xlabel(\"Hours of Study Daily\")\n",
    "plt.ylabel(\"GPA\")\n",
    "plt.scatter(X, Y)\n",
    "plt.show()\n",
    "\n",
    "print(X)\n",
    "print(Y)"
   ]
  },
  {
   "cell_type": "code",
   "execution_count": 4,
   "id": "86639572",
   "metadata": {},
   "outputs": [
    {
     "name": "stdout",
     "output_type": "stream",
     "text": [
      "0.5112652264788845 0.09714773982861452\n"
     ]
    }
   ],
   "source": [
    "# Building the model\n",
    "m = 0\n",
    "c = 0\n",
    "\n",
    "L = 0.00001  # The learning Rate\n",
    "epochs = 10000  # The number of iterations to perform gradient descent\n",
    "\n",
    "n = float(len(X)) # Number of elements in X\n",
    "\n",
    "# Performing Gradient Descent \n",
    "for i in range(epochs): \n",
    "    Y_pred = m*X + c  # The current predicted value of Y\n",
    "    D_m = (-2/n) * sum(X * (Y - Y_pred))  # Derivative wrt m\n",
    "    D_c = (-2/n) * sum(Y - Y_pred)  # Derivative wrt c\n",
    "    m = m - L * D_m  # Update m\n",
    "    c = c - L * D_c  # Update c\n",
    "\n",
    "print (m, c)"
   ]
  },
  {
   "cell_type": "code",
   "execution_count": 5,
   "id": "3b7e1018",
   "metadata": {},
   "outputs": [
    {
     "data": {
      "image/png": "[encoded data removed]",
      "text/plain": [
       "<Figure size 864x648 with 1 Axes>"
      ]
     },
     "metadata": {
      "needs_background": "light"
     },
     "output_type": "display_data"
    }
   ],
   "source": [
    "# Making predictions\n",
    "Y_pred = m*X + c\n",
    "\n",
    "plt.scatter(X, Y) \n",
    "plt.plot(X, Y_pred, color=\"orange\")  # regression line\n",
    "plt.show()"
   ]
  },
  {
   "cell_type": "markdown",
   "id": "342d1612",
   "metadata": {},
   "source": [
    "# Implementing Gradient Descent for multilinear regression"
   ]
  },
  {
   "cell_type": "markdown",
   "id": "d35e673d",
   "metadata": {},
   "source": [
    "Gradient Descent is one of the most popular optimization algorithms. Gradient Descent is an iterative algorithm.\n",
    "\n",
    "When we say we are building a Linear Regression model, It is nothing but we are trying to find a straight line(one feature) or a hyperplane(multiple features) that best fits the data. And the equation of a line is represented by “mx+b=0” where “m” is the slope and “b” is bias. We can also refer to “m” as weight and “b” as intercept.\n",
    "\n",
    "For example, if we have 5 features then the equation of hyperplane is represented by :"
   ]
  },
  {
   "attachments": {
    "download.png": {
     "image/png": "[encoded data removed]"
    }
   },
   "cell_type": "markdown",
   "id": "85bf98c0",
   "metadata": {},
   "source": [
    "![download.png](attachment:download.png)"
   ]
  },
  {
   "cell_type": "markdown",
   "id": "83f62ab7",
   "metadata": {},
   "source": [
    "The above equation can also be presented as:"
   ]
  },
  {
   "attachments": {
    "download.png": {
     "image/png": "[encoded data removed]"
    }
   },
   "cell_type": "markdown",
   "id": "5ad1651b",
   "metadata": {},
   "source": [
    "![download.png](attachment:download.png)"
   ]
  },
  {
   "cell_type": "markdown",
   "id": "609d7807",
   "metadata": {},
   "source": [
    "As we know the \"Cost Function\" of regression is mean square error:\n",
    "\n"
   ]
  },
  {
   "attachments": {
    "download.png": {
     "image/png": "[encoded data removed]"
    }
   },
   "cell_type": "markdown",
   "id": "3bf4d4ce",
   "metadata": {},
   "source": [
    "![download.png](attachment:download.png)\n"
   ]
  },
  {
   "cell_type": "markdown",
   "id": "fb471b22",
   "metadata": {},
   "source": [
    "And The equation to update weight and bias:"
   ]
  },
  {
   "attachments": {
    "download.png": {
     "image/png": "[encoded data removed]"
    }
   },
   "cell_type": "markdown",
   "id": "3d84ce6b",
   "metadata": {},
   "source": [
    "![download.png](attachment:download.png)"
   ]
  },
  {
   "cell_type": "markdown",
   "id": "c0d2ca49",
   "metadata": {},
   "source": [
    "Now to find the value of ∇w2 or ∇w1 we need to put the value of y in MSE and take partial derivative according to all features separately.\n",
    "\n",
    "The end equations of all features would be like follows:\n",
    "\n"
   ]
  },
  {
   "attachments": {
    "download.png": {
     "image/png": "[encoded data removed]"
    }
   },
   "cell_type": "markdown",
   "id": "72ba9d1a",
   "metadata": {},
   "source": [
    "![download.png](attachment:download.png)"
   ]
  },
  {
   "cell_type": "markdown",
   "id": "8f97ca10",
   "metadata": {},
   "source": [
    "and so on till w6. Now tells apply this to a real world data set."
   ]
  },
  {
   "cell_type": "code",
   "execution_count": 11,
   "id": "d2ab6085",
   "metadata": {},
   "outputs": [
    {
     "data": {
      "text/html": [
       "<div>\n",
       "<style scoped>\n",
       "    .dataframe tbody tr th:only-of-type {\n",
       "        vertical-align: middle;\n",
       "    }\n",
       "\n",
       "    .dataframe tbody tr th {\n",
       "        vertical-align: top;\n",
       "    }\n",
       "\n",
       "    .dataframe thead th {\n",
       "        text-align: right;\n",
       "    }\n",
       "</style>\n",
       "<table border=\"1\" class=\"dataframe\">\n",
       "  <thead>\n",
       "    <tr style=\"text-align: right;\">\n",
       "      <th></th>\n",
       "      <th>Height</th>\n",
       "      <th>Weight</th>\n",
       "      <th>Index</th>\n",
       "    </tr>\n",
       "  </thead>\n",
       "  <tbody>\n",
       "    <tr>\n",
       "      <th>0</th>\n",
       "      <td>174</td>\n",
       "      <td>96</td>\n",
       "      <td>31.7</td>\n",
       "    </tr>\n",
       "    <tr>\n",
       "      <th>1</th>\n",
       "      <td>189</td>\n",
       "      <td>87</td>\n",
       "      <td>24.4</td>\n",
       "    </tr>\n",
       "    <tr>\n",
       "      <th>2</th>\n",
       "      <td>185</td>\n",
       "      <td>110</td>\n",
       "      <td>22.1</td>\n",
       "    </tr>\n",
       "    <tr>\n",
       "      <th>3</th>\n",
       "      <td>195</td>\n",
       "      <td>104</td>\n",
       "      <td>27.4</td>\n",
       "    </tr>\n",
       "    <tr>\n",
       "      <th>4</th>\n",
       "      <td>149</td>\n",
       "      <td>61</td>\n",
       "      <td>27.5</td>\n",
       "    </tr>\n",
       "    <tr>\n",
       "      <th>5</th>\n",
       "      <td>189</td>\n",
       "      <td>104</td>\n",
       "      <td>29.0</td>\n",
       "    </tr>\n",
       "    <tr>\n",
       "      <th>6</th>\n",
       "      <td>147</td>\n",
       "      <td>92</td>\n",
       "      <td>42.3</td>\n",
       "    </tr>\n",
       "    <tr>\n",
       "      <th>7</th>\n",
       "      <td>174</td>\n",
       "      <td>90</td>\n",
       "      <td>29.7</td>\n",
       "    </tr>\n",
       "    <tr>\n",
       "      <th>8</th>\n",
       "      <td>169</td>\n",
       "      <td>103</td>\n",
       "      <td>36.1</td>\n",
       "    </tr>\n",
       "    <tr>\n",
       "      <th>9</th>\n",
       "      <td>195</td>\n",
       "      <td>81</td>\n",
       "      <td>21.3</td>\n",
       "    </tr>\n",
       "  </tbody>\n",
       "</table>\n",
       "</div>"
      ],
      "text/plain": [
       "   Height  Weight  Index\n",
       "0     174      96   31.7\n",
       "1     189      87   24.4\n",
       "2     185     110   22.1\n",
       "3     195     104   27.4\n",
       "4     149      61   27.5\n",
       "5     189     104   29.0\n",
       "6     147      92   42.3\n",
       "7     174      90   29.7\n",
       "8     169     103   36.1\n",
       "9     195      81   21.3"
      ]
     },
     "execution_count": 11,
     "metadata": {},
     "output_type": "execute_result"
    }
   ],
   "source": [
    "#reading data\n",
    "data = pd.read_csv('datasets/bmi.csv')\n",
    "data.head(10)"
   ]
  },
  {
   "cell_type": "code",
   "execution_count": 12,
   "id": "5ee0c0e4",
   "metadata": {},
   "outputs": [
    {
     "data": {
      "image/png": "[encoded data removed]",
      "text/plain": [
       "<Figure size 864x648 with 1 Axes>"
      ]
     },
     "metadata": {
      "needs_background": "light"
     },
     "output_type": "display_data"
    }
   ],
   "source": [
    "#separating training data and output labes\n",
    "X_train = data.values[:,0:2]\n",
    "Y_train = data.values[:,2]\n",
    "\n",
    "\n",
    "plt.scatter(X_train[:,0],Y_train)\n",
    "\n",
    "#ploting training data\n",
    "plt.xlabel(\"factors\")\n",
    "plt.ylabel(\"bmi\")\n",
    "plt.scatter(X_train[:,1],Y_train)\n",
    "plt.show()"
   ]
  },
  {
   "cell_type": "code",
   "execution_count": 40,
   "id": "08b9403d",
   "metadata": {},
   "outputs": [
    {
     "name": "stdout",
     "output_type": "stream",
     "text": [
      "(13, 2)\n",
      "(13,)\n"
     ]
    }
   ],
   "source": [
    "print(X_train.shape)\n",
    "print(Y_train.shape)"
   ]
  },
  {
   "cell_type": "code",
   "execution_count": 41,
   "id": "07f9c2cf",
   "metadata": {},
   "outputs": [
    {
     "name": "stdout",
     "output_type": "stream",
     "text": [
      "13.0\n"
     ]
    }
   ],
   "source": [
    "w1 = w2 = w3 = 0\n",
    "L = 0.00001  # The learning Rate\n",
    "epochs = 100  # The number of iterations to perform gradient descent\n",
    "n = float(len(X_train)) "
   ]
  },
  {
   "cell_type": "code",
   "execution_count": 42,
   "id": "41892c43",
   "metadata": {},
   "outputs": [
    {
     "name": "stdout",
     "output_type": "stream",
     "text": [
      "0.0016685760495735774\n",
      "0.1021150289410574\n",
      "0.11496073463448904\n"
     ]
    }
   ],
   "source": [
    "#calculating weights w1 w2 w3\n",
    "for i in range(epochs): \n",
    "    Y_pred = w1 + (w2*(X_train[:,0])) + (w3*(X_train[:,1]))\n",
    "    D_w1 = (-2/n) * sum(Y_train - Y_pred)\n",
    "    D_w2 = (-2/n) * sum(X_train[:,0] * (Y_train - Y_pred))\n",
    "    D_w3 = (-2/n) * sum(X_train[:,1] * (Y_train - Y_pred))\n",
    "   \n",
    "    \n",
    "    w1 = w1 - L * D_w1 \n",
    "    w2 = w2 - L * D_w2 \n",
    "    w3 = w3 - L * D_w3 \n",
    "                     \n",
    "                       \n",
    "print(w1)\n",
    "print(w2)\n",
    "print(w3)"
   ]
  },
  {
   "cell_type": "code",
   "execution_count": 43,
   "id": "363f4ed2",
   "metadata": {},
   "outputs": [
    {
     "name": "stdout",
     "output_type": "stream",
     "text": [
      "31.538629739938987\n"
     ]
    }
   ],
   "source": [
    "#testing the model with dummy values\n",
    "Y_pred = w1 + (w2*185) + (w3*110)\n",
    "print(Y_pred)     #32.1 is exact answer"
   ]
  },
  {
   "cell_type": "code",
   "execution_count": 44,
   "id": "53c4addc",
   "metadata": {},
   "outputs": [
    {
     "data": {
      "image/png": "[encoded data removed]",
      "text/plain": [
       "<Figure size 864x648 with 1 Axes>"
      ]
     },
     "metadata": {
      "needs_background": "light"
     },
     "output_type": "display_data"
    }
   ],
   "source": [
    "Y_pred = w1 + (w2*(X_train[:,0])) + (w3*(X_train[:,1])) \n",
    "\n",
    "plt.scatter(X_train[:,0], Y_train) \n",
    "plt.plot(X_train[:,0], Y_pred)\n",
    "# regression line\n",
    "plt.scatter(X_train[:,1], Y_train) \n",
    "plt.plot(X_train[:,1], Y_pred)\n",
    "plt.show()"
   ]
  }
 ],
 "metadata": {
  "kernelspec": {
   "display_name": "Python 3 (ipykernel)",
   "language": "python",
   "name": "python3"
  },
  "language_info": {
   "codemirror_mode": {
    "name": "ipython",
    "version": 3
   },
   "file_extension": ".py",
   "mimetype": "text/x-python",
   "name": "python",
   "nbconvert_exporter": "python",
   "pygments_lexer": "ipython3",
   "version": "3.9.7"
  }
 },
 "nbformat": 4,
 "nbformat_minor": 5
}
